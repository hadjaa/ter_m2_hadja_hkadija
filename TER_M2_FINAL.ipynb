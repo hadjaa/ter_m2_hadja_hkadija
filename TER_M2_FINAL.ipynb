{
 "cells": [
  {
   "cell_type": "markdown",
   "id": "f729fa81",
   "metadata": {},
   "source": [
    "### Importations des packages"
   ]
  },
  {
   "cell_type": "code",
   "execution_count": 1,
   "id": "3f21e6a0",
   "metadata": {},
   "outputs": [],
   "source": [
    "import pandas as pd\n",
    "import seaborn as sns\n",
    "import matplotlib.pyplot as plt \n",
    "from pandas.plotting import register_matplotlib_converters\n",
    "from statsmodels.graphics.tsaplots import plot_acf, plot_pacf\n",
    "register_matplotlib_converters()\n",
    "import numpy as np"
   ]
  },
  {
   "cell_type": "markdown",
   "id": "4c669d7c",
   "metadata": {},
   "source": [
    "### Lecture du fichier"
   ]
  },
  {
   "cell_type": "code",
   "execution_count": 2,
   "id": "28084ff7",
   "metadata": {},
   "outputs": [
    {
     "data": {
      "text/html": [
       "<div>\n",
       "<style scoped>\n",
       "    .dataframe tbody tr th:only-of-type {\n",
       "        vertical-align: middle;\n",
       "    }\n",
       "\n",
       "    .dataframe tbody tr th {\n",
       "        vertical-align: top;\n",
       "    }\n",
       "\n",
       "    .dataframe thead th {\n",
       "        text-align: right;\n",
       "    }\n",
       "</style>\n",
       "<table border=\"1\" class=\"dataframe\">\n",
       "  <thead>\n",
       "    <tr style=\"text-align: right;\">\n",
       "      <th></th>\n",
       "      <th>Datetime</th>\n",
       "      <th>precip_totl_tp</th>\n",
       "      <th>prsn_atmos_max_tp_prcedt</th>\n",
       "      <th>prsn_atmos_min_prmier_tmp</th>\n",
       "      <th>rad_gobal</th>\n",
       "      <th>tmp_air</th>\n",
       "      <th>tmp_pt_rose</th>\n",
       "      <th>humid_rlative_air</th>\n",
       "      <th>vent_vitess_tmp</th>\n",
       "      <th>station</th>\n",
       "    </tr>\n",
       "  </thead>\n",
       "  <tbody>\n",
       "    <tr>\n",
       "      <th>0</th>\n",
       "      <td>2018-11-01 23:00:00</td>\n",
       "      <td>0.0</td>\n",
       "      <td>901.5</td>\n",
       "      <td>901.2</td>\n",
       "      <td>NaN</td>\n",
       "      <td>15.3</td>\n",
       "      <td>14.6</td>\n",
       "      <td>96.0</td>\n",
       "      <td>0.1</td>\n",
       "      <td>GENERAL CARNEIRO</td>\n",
       "    </tr>\n",
       "    <tr>\n",
       "      <th>1</th>\n",
       "      <td>2018-11-02 00:00:00</td>\n",
       "      <td>0.0</td>\n",
       "      <td>901.8</td>\n",
       "      <td>901.5</td>\n",
       "      <td>NaN</td>\n",
       "      <td>14.2</td>\n",
       "      <td>13.6</td>\n",
       "      <td>96.0</td>\n",
       "      <td>0.2</td>\n",
       "      <td>GENERAL CARNEIRO</td>\n",
       "    </tr>\n",
       "    <tr>\n",
       "      <th>2</th>\n",
       "      <td>2018-11-02 01:00:00</td>\n",
       "      <td>0.0</td>\n",
       "      <td>901.9</td>\n",
       "      <td>901.7</td>\n",
       "      <td>NaN</td>\n",
       "      <td>13.7</td>\n",
       "      <td>13.2</td>\n",
       "      <td>97.0</td>\n",
       "      <td>0.0</td>\n",
       "      <td>GENERAL CARNEIRO</td>\n",
       "    </tr>\n",
       "    <tr>\n",
       "      <th>3</th>\n",
       "      <td>2018-11-02 02:00:00</td>\n",
       "      <td>0.0</td>\n",
       "      <td>901.7</td>\n",
       "      <td>901.3</td>\n",
       "      <td>NaN</td>\n",
       "      <td>12.3</td>\n",
       "      <td>11.8</td>\n",
       "      <td>97.0</td>\n",
       "      <td>0.0</td>\n",
       "      <td>GENERAL CARNEIRO</td>\n",
       "    </tr>\n",
       "    <tr>\n",
       "      <th>4</th>\n",
       "      <td>2018-11-02 03:00:00</td>\n",
       "      <td>0.2</td>\n",
       "      <td>901.4</td>\n",
       "      <td>900.9</td>\n",
       "      <td>NaN</td>\n",
       "      <td>13.1</td>\n",
       "      <td>12.7</td>\n",
       "      <td>97.0</td>\n",
       "      <td>0.0</td>\n",
       "      <td>GENERAL CARNEIRO</td>\n",
       "    </tr>\n",
       "    <tr>\n",
       "      <th>...</th>\n",
       "      <td>...</td>\n",
       "      <td>...</td>\n",
       "      <td>...</td>\n",
       "      <td>...</td>\n",
       "      <td>...</td>\n",
       "      <td>...</td>\n",
       "      <td>...</td>\n",
       "      <td>...</td>\n",
       "      <td>...</td>\n",
       "      <td>...</td>\n",
       "    </tr>\n",
       "    <tr>\n",
       "      <th>2435369</th>\n",
       "      <td>2020-09-11 03:00:00</td>\n",
       "      <td>0.0</td>\n",
       "      <td>1018.2</td>\n",
       "      <td>1017.6</td>\n",
       "      <td>NaN</td>\n",
       "      <td>17.3</td>\n",
       "      <td>NaN</td>\n",
       "      <td>NaN</td>\n",
       "      <td>1.1</td>\n",
       "      <td>ARARANGUA</td>\n",
       "    </tr>\n",
       "    <tr>\n",
       "      <th>2435370</th>\n",
       "      <td>2020-09-11 04:00:00</td>\n",
       "      <td>0.0</td>\n",
       "      <td>1017.6</td>\n",
       "      <td>1016.5</td>\n",
       "      <td>NaN</td>\n",
       "      <td>17.2</td>\n",
       "      <td>NaN</td>\n",
       "      <td>NaN</td>\n",
       "      <td>1.4</td>\n",
       "      <td>ARARANGUA</td>\n",
       "    </tr>\n",
       "    <tr>\n",
       "      <th>2435371</th>\n",
       "      <td>2020-09-11 05:00:00</td>\n",
       "      <td>0.0</td>\n",
       "      <td>1016.5</td>\n",
       "      <td>1015.7</td>\n",
       "      <td>NaN</td>\n",
       "      <td>17.0</td>\n",
       "      <td>NaN</td>\n",
       "      <td>NaN</td>\n",
       "      <td>1.4</td>\n",
       "      <td>ARARANGUA</td>\n",
       "    </tr>\n",
       "    <tr>\n",
       "      <th>2435372</th>\n",
       "      <td>2020-09-11 06:00:00</td>\n",
       "      <td>0.0</td>\n",
       "      <td>1016.0</td>\n",
       "      <td>1015.4</td>\n",
       "      <td>NaN</td>\n",
       "      <td>16.4</td>\n",
       "      <td>NaN</td>\n",
       "      <td>NaN</td>\n",
       "      <td>1.3</td>\n",
       "      <td>ARARANGUA</td>\n",
       "    </tr>\n",
       "    <tr>\n",
       "      <th>2435373</th>\n",
       "      <td>2020-09-11 07:00:00</td>\n",
       "      <td>0.0</td>\n",
       "      <td>1015.5</td>\n",
       "      <td>1015.4</td>\n",
       "      <td>NaN</td>\n",
       "      <td>16.1</td>\n",
       "      <td>NaN</td>\n",
       "      <td>NaN</td>\n",
       "      <td>1.5</td>\n",
       "      <td>ARARANGUA</td>\n",
       "    </tr>\n",
       "  </tbody>\n",
       "</table>\n",
       "<p>2435374 rows × 10 columns</p>\n",
       "</div>"
      ],
      "text/plain": [
       "                    Datetime  precip_totl_tp  prsn_atmos_max_tp_prcedt  \\\n",
       "0        2018-11-01 23:00:00             0.0                     901.5   \n",
       "1        2018-11-02 00:00:00             0.0                     901.8   \n",
       "2        2018-11-02 01:00:00             0.0                     901.9   \n",
       "3        2018-11-02 02:00:00             0.0                     901.7   \n",
       "4        2018-11-02 03:00:00             0.2                     901.4   \n",
       "...                      ...             ...                       ...   \n",
       "2435369  2020-09-11 03:00:00             0.0                    1018.2   \n",
       "2435370  2020-09-11 04:00:00             0.0                    1017.6   \n",
       "2435371  2020-09-11 05:00:00             0.0                    1016.5   \n",
       "2435372  2020-09-11 06:00:00             0.0                    1016.0   \n",
       "2435373  2020-09-11 07:00:00             0.0                    1015.5   \n",
       "\n",
       "         prsn_atmos_min_prmier_tmp  rad_gobal  tmp_air  tmp_pt_rose  \\\n",
       "0                            901.2        NaN     15.3         14.6   \n",
       "1                            901.5        NaN     14.2         13.6   \n",
       "2                            901.7        NaN     13.7         13.2   \n",
       "3                            901.3        NaN     12.3         11.8   \n",
       "4                            900.9        NaN     13.1         12.7   \n",
       "...                            ...        ...      ...          ...   \n",
       "2435369                     1017.6        NaN     17.3          NaN   \n",
       "2435370                     1016.5        NaN     17.2          NaN   \n",
       "2435371                     1015.7        NaN     17.0          NaN   \n",
       "2435372                     1015.4        NaN     16.4          NaN   \n",
       "2435373                     1015.4        NaN     16.1          NaN   \n",
       "\n",
       "         humid_rlative_air  vent_vitess_tmp           station  \n",
       "0                     96.0              0.1  GENERAL CARNEIRO  \n",
       "1                     96.0              0.2  GENERAL CARNEIRO  \n",
       "2                     97.0              0.0  GENERAL CARNEIRO  \n",
       "3                     97.0              0.0  GENERAL CARNEIRO  \n",
       "4                     97.0              0.0  GENERAL CARNEIRO  \n",
       "...                    ...              ...               ...  \n",
       "2435369                NaN              1.1         ARARANGUA  \n",
       "2435370                NaN              1.4         ARARANGUA  \n",
       "2435371                NaN              1.4         ARARANGUA  \n",
       "2435372                NaN              1.3         ARARANGUA  \n",
       "2435373                NaN              1.5         ARARANGUA  \n",
       "\n",
       "[2435374 rows x 10 columns]"
      ]
     },
     "execution_count": 2,
     "metadata": {},
     "output_type": "execute_result"
    }
   ],
   "source": [
    "df = pd.read_csv('south1.csv')\n",
    "df"
   ]
  },
  {
   "cell_type": "markdown",
   "id": "cc05d139",
   "metadata": {},
   "source": [
    "### Conversion de la date en datetime"
   ]
  },
  {
   "cell_type": "code",
   "execution_count": 3,
   "id": "1c966df9",
   "metadata": {},
   "outputs": [
    {
     "data": {
      "text/plain": [
       "Datetime                     datetime64[ns]\n",
       "precip_totl_tp                      float64\n",
       "prsn_atmos_max_tp_prcedt            float64\n",
       "prsn_atmos_min_prmier_tmp           float64\n",
       "rad_gobal                           float64\n",
       "tmp_air                             float64\n",
       "tmp_pt_rose                         float64\n",
       "humid_rlative_air                   float64\n",
       "vent_vitess_tmp                     float64\n",
       "station                              object\n",
       "dtype: object"
      ]
     },
     "execution_count": 3,
     "metadata": {},
     "output_type": "execute_result"
    }
   ],
   "source": [
    "df['Datetime'] = pd.to_datetime(df['Datetime'])\n",
    "df.dtypes"
   ]
  },
  {
   "cell_type": "markdown",
   "id": "1e169861",
   "metadata": {},
   "source": [
    "### Confimation de l'interval de temps"
   ]
  },
  {
   "cell_type": "code",
   "execution_count": 4,
   "id": "c6041c79",
   "metadata": {},
   "outputs": [
    {
     "name": "stdout",
     "output_type": "stream",
     "text": [
      "DatetimeIndex(['2018-11-01 00:00:00', '2018-11-01 01:00:00',\n",
      "               '2018-11-01 02:00:00', '2018-11-01 03:00:00',\n",
      "               '2018-11-01 04:00:00', '2018-11-01 05:00:00',\n",
      "               '2018-11-01 06:00:00', '2018-11-01 07:00:00',\n",
      "               '2018-11-01 08:00:00', '2018-11-01 09:00:00',\n",
      "               ...\n",
      "               '2020-09-10 15:00:00', '2020-09-10 16:00:00',\n",
      "               '2020-09-10 17:00:00', '2020-09-10 18:00:00',\n",
      "               '2020-09-10 19:00:00', '2020-09-10 20:00:00',\n",
      "               '2020-09-10 21:00:00', '2020-09-10 22:00:00',\n",
      "               '2020-09-10 23:00:00', '2020-09-11 00:00:00'],\n",
      "              dtype='datetime64[ns]', length=16321, freq='H')\n"
     ]
    }
   ],
   "source": [
    "print(pd.date_range(start='2018-11-01',end='2020-09-11', freq=\"1h\").difference(df.index))"
   ]
  },
  {
   "cell_type": "markdown",
   "id": "2b686003",
   "metadata": {},
   "source": [
    "### Verification des valeurs manquantes avant remplacement"
   ]
  },
  {
   "cell_type": "code",
   "execution_count": 5,
   "id": "50c56362",
   "metadata": {},
   "outputs": [
    {
     "data": {
      "text/plain": [
       "2988493"
      ]
     },
     "execution_count": 5,
     "metadata": {},
     "output_type": "execute_result"
    }
   ],
   "source": [
    "df.isnull().sum().sum()"
   ]
  },
  {
   "cell_type": "code",
   "execution_count": 6,
   "id": "30f8dad5",
   "metadata": {},
   "outputs": [
    {
     "data": {
      "text/plain": [
       "Datetime                           0\n",
       "precip_totl_tp                261130\n",
       "prsn_atmos_max_tp_prcedt      208944\n",
       "prsn_atmos_min_prmier_tmp     208943\n",
       "rad_gobal                    1217282\n",
       "tmp_air                       208190\n",
       "tmp_pt_rose                   298808\n",
       "humid_rlative_air             304319\n",
       "vent_vitess_tmp               280877\n",
       "station                            0\n",
       "dtype: int64"
      ]
     },
     "execution_count": 6,
     "metadata": {},
     "output_type": "execute_result"
    }
   ],
   "source": [
    "df.isnull().sum()"
   ]
  },
  {
   "cell_type": "markdown",
   "id": "d43133e9",
   "metadata": {},
   "source": [
    "### Correlation entre toutes les variables"
   ]
  },
  {
   "cell_type": "code",
   "execution_count": 7,
   "id": "704c393a",
   "metadata": {},
   "outputs": [
    {
     "data": {
      "text/plain": [
       "<AxesSubplot:title={'center':'Correlation'}>"
      ]
     },
     "execution_count": 7,
     "metadata": {},
     "output_type": "execute_result"
    },
    {
     "data": {
      "image/png": "[encoded data removed]",
      "text/plain": [
       "<Figure size 640x480 with 2 Axes>"
      ]
     },
     "metadata": {},
     "output_type": "display_data"
    }
   ],
   "source": [
    "quantitatives = df[['precip_totl_tp', 'prsn_atmos_max_tp_prcedt', 'prsn_atmos_min_prmier_tmp', 'rad_gobal', 'tmp_air', 'tmp_pt_rose', 'humid_rlative_air','vent_vitess_tmp']]\n",
    "\n",
    "corrQuant = quantitatives.corr()\n",
    "ax = plt.axes()\n",
    "ax.set_title(\"Correlation\")\n",
    "#sns.heatmap(corrQuant, xticklabels=corrQuant.columns.values, yticklabels=corrQuant.columns.values, annot=True)\n",
    "\n",
    "#corr = new_Data.corr()\n",
    "sns.set(rc={'figure.figsize':(12,6)})\n",
    "sns.heatmap(corrQuant, cmap=\"YlGnBu\", annot=True)"
   ]
  },
  {
   "cell_type": "markdown",
   "id": "8c721a18",
   "metadata": {},
   "source": [
    "# Detection des valeurs aberrantes "
   ]
  },
  {
   "cell_type": "markdown",
   "id": "6cb9c63b",
   "metadata": {},
   "source": [
    "### Description des données"
   ]
  },
  {
   "cell_type": "code",
   "execution_count": 8,
   "id": "38323e02",
   "metadata": {},
   "outputs": [
    {
     "data": {
      "text/html": [
       "<div>\n",
       "<style scoped>\n",
       "    .dataframe tbody tr th:only-of-type {\n",
       "        vertical-align: middle;\n",
       "    }\n",
       "\n",
       "    .dataframe tbody tr th {\n",
       "        vertical-align: top;\n",
       "    }\n",
       "\n",
       "    .dataframe thead th {\n",
       "        text-align: right;\n",
       "    }\n",
       "</style>\n",
       "<table border=\"1\" class=\"dataframe\">\n",
       "  <thead>\n",
       "    <tr style=\"text-align: right;\">\n",
       "      <th></th>\n",
       "      <th>precip_totl_tp</th>\n",
       "      <th>prsn_atmos_max_tp_prcedt</th>\n",
       "      <th>prsn_atmos_min_prmier_tmp</th>\n",
       "      <th>rad_gobal</th>\n",
       "      <th>tmp_air</th>\n",
       "      <th>tmp_pt_rose</th>\n",
       "      <th>humid_rlative_air</th>\n",
       "      <th>vent_vitess_tmp</th>\n",
       "    </tr>\n",
       "  </thead>\n",
       "  <tbody>\n",
       "    <tr>\n",
       "      <th>count</th>\n",
       "      <td>2.174244e+06</td>\n",
       "      <td>2.226430e+06</td>\n",
       "      <td>2.226431e+06</td>\n",
       "      <td>1.218092e+06</td>\n",
       "      <td>2.227184e+06</td>\n",
       "      <td>2.136566e+06</td>\n",
       "      <td>2.131055e+06</td>\n",
       "      <td>2.154497e+06</td>\n",
       "    </tr>\n",
       "    <tr>\n",
       "      <th>mean</th>\n",
       "      <td>1.715186e-01</td>\n",
       "      <td>9.594115e+02</td>\n",
       "      <td>9.588491e+02</td>\n",
       "      <td>1.254992e+03</td>\n",
       "      <td>1.909656e+01</td>\n",
       "      <td>1.416954e+01</td>\n",
       "      <td>7.602498e+01</td>\n",
       "      <td>2.341519e+00</td>\n",
       "    </tr>\n",
       "    <tr>\n",
       "      <th>std</th>\n",
       "      <td>1.200446e+00</td>\n",
       "      <td>4.304169e+01</td>\n",
       "      <td>4.299300e+01</td>\n",
       "      <td>1.120796e+03</td>\n",
       "      <td>6.023745e+00</td>\n",
       "      <td>5.100885e+00</td>\n",
       "      <td>1.849480e+01</td>\n",
       "      <td>2.012077e+00</td>\n",
       "    </tr>\n",
       "    <tr>\n",
       "      <th>min</th>\n",
       "      <td>0.000000e+00</td>\n",
       "      <td>8.041000e+02</td>\n",
       "      <td>8.018000e+02</td>\n",
       "      <td>0.000000e+00</td>\n",
       "      <td>-8.400000e+00</td>\n",
       "      <td>-3.600000e+01</td>\n",
       "      <td>7.000000e+00</td>\n",
       "      <td>0.000000e+00</td>\n",
       "    </tr>\n",
       "    <tr>\n",
       "      <th>25%</th>\n",
       "      <td>0.000000e+00</td>\n",
       "      <td>9.240000e+02</td>\n",
       "      <td>9.235000e+02</td>\n",
       "      <td>2.200000e+02</td>\n",
       "      <td>1.520000e+01</td>\n",
       "      <td>1.130000e+01</td>\n",
       "      <td>6.400000e+01</td>\n",
       "      <td>8.000000e-01</td>\n",
       "    </tr>\n",
       "    <tr>\n",
       "      <th>50%</th>\n",
       "      <td>0.000000e+00</td>\n",
       "      <td>9.615000e+02</td>\n",
       "      <td>9.609000e+02</td>\n",
       "      <td>9.780000e+02</td>\n",
       "      <td>1.920000e+01</td>\n",
       "      <td>1.480000e+01</td>\n",
       "      <td>8.000000e+01</td>\n",
       "      <td>2.000000e+00</td>\n",
       "    </tr>\n",
       "    <tr>\n",
       "      <th>75%</th>\n",
       "      <td>0.000000e+00</td>\n",
       "      <td>1.001700e+03</td>\n",
       "      <td>1.001000e+03</td>\n",
       "      <td>2.122000e+03</td>\n",
       "      <td>2.310000e+01</td>\n",
       "      <td>1.780000e+01</td>\n",
       "      <td>9.200000e+01</td>\n",
       "      <td>3.400000e+00</td>\n",
       "    </tr>\n",
       "    <tr>\n",
       "      <th>max</th>\n",
       "      <td>7.660000e+01</td>\n",
       "      <td>1.038800e+03</td>\n",
       "      <td>1.037300e+03</td>\n",
       "      <td>6.890000e+03</td>\n",
       "      <td>4.440000e+01</td>\n",
       "      <td>3.980000e+01</td>\n",
       "      <td>1.000000e+02</td>\n",
       "      <td>2.910000e+01</td>\n",
       "    </tr>\n",
       "  </tbody>\n",
       "</table>\n",
       "</div>"
      ],
      "text/plain": [
       "       precip_totl_tp  prsn_atmos_max_tp_prcedt  prsn_atmos_min_prmier_tmp  \\\n",
       "count    2.174244e+06              2.226430e+06               2.226431e+06   \n",
       "mean     1.715186e-01              9.594115e+02               9.588491e+02   \n",
       "std      1.200446e+00              4.304169e+01               4.299300e+01   \n",
       "min      0.000000e+00              8.041000e+02               8.018000e+02   \n",
       "25%      0.000000e+00              9.240000e+02               9.235000e+02   \n",
       "50%      0.000000e+00              9.615000e+02               9.609000e+02   \n",
       "75%      0.000000e+00              1.001700e+03               1.001000e+03   \n",
       "max      7.660000e+01              1.038800e+03               1.037300e+03   \n",
       "\n",
       "          rad_gobal       tmp_air   tmp_pt_rose  humid_rlative_air  \\\n",
       "count  1.218092e+06  2.227184e+06  2.136566e+06       2.131055e+06   \n",
       "mean   1.254992e+03  1.909656e+01  1.416954e+01       7.602498e+01   \n",
       "std    1.120796e+03  6.023745e+00  5.100885e+00       1.849480e+01   \n",
       "min    0.000000e+00 -8.400000e+00 -3.600000e+01       7.000000e+00   \n",
       "25%    2.200000e+02  1.520000e+01  1.130000e+01       6.400000e+01   \n",
       "50%    9.780000e+02  1.920000e+01  1.480000e+01       8.000000e+01   \n",
       "75%    2.122000e+03  2.310000e+01  1.780000e+01       9.200000e+01   \n",
       "max    6.890000e+03  4.440000e+01  3.980000e+01       1.000000e+02   \n",
       "\n",
       "       vent_vitess_tmp  \n",
       "count     2.154497e+06  \n",
       "mean      2.341519e+00  \n",
       "std       2.012077e+00  \n",
       "min       0.000000e+00  \n",
       "25%       8.000000e-01  \n",
       "50%       2.000000e+00  \n",
       "75%       3.400000e+00  \n",
       "max       2.910000e+01  "
      ]
     },
     "execution_count": 8,
     "metadata": {},
     "output_type": "execute_result"
    }
   ],
   "source": [
    "df.describe()"
   ]
  },
  {
   "cell_type": "code",
   "execution_count": 12,
   "id": "ff8f1f05",
   "metadata": {},
   "outputs": [],
   "source": [
    "def boxplot(dataset) :\n",
    "    plt.figure(figsize = (16,6))\n",
    "    sns.boxplot(data = dataset)\n",
    "    plt.grid()"
   ]
  },
  {
   "cell_type": "code",
   "execution_count": 13,
   "id": "783df971",
   "metadata": {},
   "outputs": [
    {
     "data": {
      "image/png": "[encoded data removed]",
      "text/plain": [
       "<Figure size 1600x600 with 1 Axes>"
      ]
     },
     "metadata": {},
     "output_type": "display_data"
    }
   ],
   "source": [
    "boxplot(df)"
   ]
  },
  {
   "cell_type": "markdown",
   "id": "d5f27471",
   "metadata": {},
   "source": [
    "### Comment les remplacer"
   ]
  },
  {
   "cell_type": "code",
   "execution_count": 15,
   "id": "61bc30d6",
   "metadata": {},
   "outputs": [
    {
     "data": {
      "text/plain": [
       "Index(['Datetime', 'precip_totl_tp', 'prsn_atmos_max_tp_prcedt',\n",
       "       'prsn_atmos_min_prmier_tmp', 'rad_gobal', 'tmp_air', 'tmp_pt_rose',\n",
       "       'humid_rlative_air', 'vent_vitess_tmp', 'station'],\n",
       "      dtype='object')"
      ]
     },
     "execution_count": 15,
     "metadata": {},
     "output_type": "execute_result"
    }
   ],
   "source": [
    "df.columns"
   ]
  },
  {
   "cell_type": "code",
   "execution_count": 16,
   "id": "d6ef0118",
   "metadata": {},
   "outputs": [],
   "source": [
    "outlers_features = ['precip_totl_tp', 'prsn_atmos_max_tp_prcedt', 'prsn_atmos_min_prmier_tmp', 'rad_gobal', 'tmp_air', 'tmp_pt_rose',\n",
    "       'humid_rlative_air', 'vent_vitess_tmp']\n",
    "\n",
    "def impute_outlers(dataset, outlers_features) :\n",
    "    quantile1 = np.percentile(dataset[outlers_features], 25)\n",
    "    quantile3 = np.percentile(dataset[outlers_features], 75)\n",
    "    iqr = quantile3 - quantile1\n",
    "    limit_lower_bound = quantile1 - 1.5*iqr\n",
    "    limit_upper_bound = quantile3 - 1.5*iqr\n",
    "    \n",
    "    dataset.loc[dataset[[outlers_features]] < limit_lower_bound, outlers_features] = limit_lower_bound\n",
    "    \n",
    "    dataset.loc[dataset[[outlers_features]] > limit_upper_bound, outlers_features] = limit_upper_bound"
   ]
  },
  {
   "cell_type": "code",
   "execution_count": null,
   "id": "628fb8b7",
   "metadata": {},
   "outputs": [],
   "source": [
    "for outler_feature in outlers_features :\n",
    "    impute_outlers(data1, outlers_features)"
   ]
  },
  {
   "cell_type": "markdown",
   "id": "b392481e",
   "metadata": {},
   "source": [
    "### Traitement des valeurs manquantes"
   ]
  },
  {
   "cell_type": "code",
   "execution_count": 9,
   "id": "cc8cd5b8",
   "metadata": {},
   "outputs": [],
   "source": [
    "df1 = df\n"
   ]
  },
  {
   "cell_type": "code",
   "execution_count": 10,
   "id": "c3fdc660",
   "metadata": {},
   "outputs": [],
   "source": [
    "df1[ 'precip_totl_tp'].fillna(method = 'ffill', inplace = True)\n",
    "df1[ 'prsn_atmos_max_tp_prcedt'].fillna(method = 'ffill', inplace = True)\n",
    "df1[ 'prsn_atmos_min_prmier_tmp'].fillna(method = 'ffill', inplace = True)\n",
    "df1[ 'rad_gobal'].fillna(method = 'ffill', inplace = True)\n",
    "df1[ 'tmp_air'].fillna(method = 'ffill', inplace = True)\n",
    "df1[ 'tmp_pt_rose'].fillna(method = 'ffill', inplace = True)\n",
    "df1[ 'humid_rlative_air'].fillna(method = 'ffill', inplace = True)\n",
    "df1[ 'vent_vitess_tmp'].fillna(method = 'ffill', inplace = True)"
   ]
  },
  {
   "cell_type": "code",
   "execution_count": 11,
   "id": "27af8e07",
   "metadata": {},
   "outputs": [
    {
     "data": {
      "text/plain": [
       "Datetime                      0\n",
       "precip_totl_tp                0\n",
       "prsn_atmos_max_tp_prcedt      0\n",
       "prsn_atmos_min_prmier_tmp     0\n",
       "rad_gobal                    10\n",
       "tmp_air                       0\n",
       "tmp_pt_rose                   0\n",
       "humid_rlative_air             0\n",
       "vent_vitess_tmp               0\n",
       "station                       0\n",
       "dtype: int64"
      ]
     },
     "execution_count": 11,
     "metadata": {},
     "output_type": "execute_result"
    }
   ],
   "source": [
    "df1.isnull().sum()"
   ]
  },
  {
   "cell_type": "code",
   "execution_count": 12,
   "id": "5b73f914",
   "metadata": {},
   "outputs": [],
   "source": [
    "df1['rad_gobal'].fillna(method = 'bfill', inplace = True)"
   ]
  },
  {
   "cell_type": "code",
   "execution_count": 13,
   "id": "303fb8b0",
   "metadata": {},
   "outputs": [
    {
     "data": {
      "text/plain": [
       "Datetime                     0\n",
       "precip_totl_tp               0\n",
       "prsn_atmos_max_tp_prcedt     0\n",
       "prsn_atmos_min_prmier_tmp    0\n",
       "rad_gobal                    0\n",
       "tmp_air                      0\n",
       "tmp_pt_rose                  0\n",
       "humid_rlative_air            0\n",
       "vent_vitess_tmp              0\n",
       "station                      0\n",
       "dtype: int64"
      ]
     },
     "execution_count": 13,
     "metadata": {},
     "output_type": "execute_result"
    }
   ],
   "source": [
    "df1.isnull().sum()"
   ]
  },
  {
   "cell_type": "markdown",
   "id": "c63eb3ae",
   "metadata": {},
   "source": [
    "# Applications de quelques models qui sont adaptés aux series temporelles  "
   ]
  },
  {
   "cell_type": "markdown",
   "id": "b101a5b9",
   "metadata": {},
   "source": [
    "### Model ARIMA\n",
    "Arima est un model univarié raison pour laquelle j'ai choisi une colonne qui est la temperature de l'aire"
   ]
  },
  {
   "cell_type": "markdown",
   "id": "6bfdba80",
   "metadata": {},
   "source": [
    "### Importation des bibliothèques utilusées pour le model"
   ]
  },
  {
   "cell_type": "code",
   "execution_count": 14,
   "id": "ff228350",
   "metadata": {},
   "outputs": [],
   "source": [
    "from statsmodels.tsa.stattools import adfuller\n",
    "from statsmodels.tsa.arima_model import ARIMA\n"
   ]
  },
  {
   "cell_type": "code",
   "execution_count": null,
   "id": "3a948929",
   "metadata": {},
   "outputs": [],
   "source": [
    "data2.to_csv(\"south1_2.csv\")"
   ]
  },
  {
   "cell_type": "code",
   "execution_count": 15,
   "id": "dffc3954",
   "metadata": {
    "scrolled": false
   },
   "outputs": [
    {
     "data": {
      "text/html": [
       "<div>\n",
       "<style scoped>\n",
       "    .dataframe tbody tr th:only-of-type {\n",
       "        vertical-align: middle;\n",
       "    }\n",
       "\n",
       "    .dataframe tbody tr th {\n",
       "        vertical-align: top;\n",
       "    }\n",
       "\n",
       "    .dataframe thead th {\n",
       "        text-align: right;\n",
       "    }\n",
       "</style>\n",
       "<table border=\"1\" class=\"dataframe\">\n",
       "  <thead>\n",
       "    <tr style=\"text-align: right;\">\n",
       "      <th></th>\n",
       "      <th>tmp_air</th>\n",
       "    </tr>\n",
       "    <tr>\n",
       "      <th>Datetime</th>\n",
       "      <th></th>\n",
       "    </tr>\n",
       "  </thead>\n",
       "  <tbody>\n",
       "    <tr>\n",
       "      <th>2018-11-01 23:00:00</th>\n",
       "      <td>15.3</td>\n",
       "    </tr>\n",
       "    <tr>\n",
       "      <th>2018-11-02 00:00:00</th>\n",
       "      <td>14.2</td>\n",
       "    </tr>\n",
       "    <tr>\n",
       "      <th>2018-11-02 01:00:00</th>\n",
       "      <td>13.7</td>\n",
       "    </tr>\n",
       "    <tr>\n",
       "      <th>2018-11-02 02:00:00</th>\n",
       "      <td>12.3</td>\n",
       "    </tr>\n",
       "    <tr>\n",
       "      <th>2018-11-02 03:00:00</th>\n",
       "      <td>13.1</td>\n",
       "    </tr>\n",
       "    <tr>\n",
       "      <th>...</th>\n",
       "      <td>...</td>\n",
       "    </tr>\n",
       "    <tr>\n",
       "      <th>2018-12-13 10:00:00</th>\n",
       "      <td>16.8</td>\n",
       "    </tr>\n",
       "    <tr>\n",
       "      <th>2018-12-13 11:00:00</th>\n",
       "      <td>20.4</td>\n",
       "    </tr>\n",
       "    <tr>\n",
       "      <th>2018-12-13 12:00:00</th>\n",
       "      <td>23.6</td>\n",
       "    </tr>\n",
       "    <tr>\n",
       "      <th>2018-12-13 13:00:00</th>\n",
       "      <td>24.5</td>\n",
       "    </tr>\n",
       "    <tr>\n",
       "      <th>2018-12-13 14:00:00</th>\n",
       "      <td>28.1</td>\n",
       "    </tr>\n",
       "  </tbody>\n",
       "</table>\n",
       "<p>1000 rows × 1 columns</p>\n",
       "</div>"
      ],
      "text/plain": [
       "                     tmp_air\n",
       "Datetime                    \n",
       "2018-11-01 23:00:00     15.3\n",
       "2018-11-02 00:00:00     14.2\n",
       "2018-11-02 01:00:00     13.7\n",
       "2018-11-02 02:00:00     12.3\n",
       "2018-11-02 03:00:00     13.1\n",
       "...                      ...\n",
       "2018-12-13 10:00:00     16.8\n",
       "2018-12-13 11:00:00     20.4\n",
       "2018-12-13 12:00:00     23.6\n",
       "2018-12-13 13:00:00     24.5\n",
       "2018-12-13 14:00:00     28.1\n",
       "\n",
       "[1000 rows x 1 columns]"
      ]
     },
     "execution_count": 15,
     "metadata": {},
     "output_type": "execute_result"
    }
   ],
   "source": [
    "df2 = pd.read_csv('south1_2.csv', parse_dates = ['Datetime'], index_col= 'Datetime', usecols=['Datetime', 'tmp_air'])\n",
    "df3 = df2.iloc[:1000]\n",
    "df3"
   ]
  },
  {
   "cell_type": "markdown",
   "id": "b4fcf67a",
   "metadata": {},
   "source": [
    "### plot du dataframe"
   ]
  },
  {
   "cell_type": "code",
   "execution_count": 31,
   "id": "a5cddc7b",
   "metadata": {},
   "outputs": [
    {
     "data": {
      "text/plain": [
       "[<matplotlib.lines.Line2D at 0x1a086417670>]"
      ]
     },
     "execution_count": 31,
     "metadata": {},
     "output_type": "execute_result"
    },
    {
     "data": {
      "image/png": "[encoded data removed]",
      "text/plain": [
       "<Figure size 1200x600 with 1 Axes>"
      ]
     },
     "metadata": {},
     "output_type": "display_data"
    }
   ],
   "source": [
    "plt.xlabel('Datetime')\n",
    "plt.ylabel('Temperature daire')\n",
    "plt.plot(df3)"
   ]
  },
  {
   "cell_type": "markdown",
   "id": "75eb4533",
   "metadata": {},
   "source": [
    "### Verification de la stationnarité des données avant d'appliquer le model\n",
    "on remarque que les données ne sont pas stationnaires car le p-value est superieur à 0,05 or que le p-valeur doit etre inferieur ou egal à 0,05 malgré que ADF est proche des valeurs critiques"
   ]
  },
  {
   "cell_type": "code",
   "execution_count": 16,
   "id": "5e8dbcfe",
   "metadata": {},
   "outputs": [
    {
     "name": "stdout",
     "output_type": "stream",
     "text": [
      "Statistiques ADF : -2.0088713742313318\n",
      "p-value : 0.2826969088542043\n",
      "Valeurs Critiques :\n",
      "\t1%: -3.43706091543889\n",
      "\t5%: -2.8645028204932483\n",
      "\t10%: -2.568347558984588\n"
     ]
    }
   ],
   "source": [
    "result = adfuller(df3['tmp_air'])\n",
    " \n",
    "print('Statistiques ADF : {}'.format(result[0]))\n",
    "print('p-value : {}'.format(result[1]))\n",
    "print('Valeurs Critiques :')\n",
    "for key, value in result[4].items():\n",
    "    print('\\t{}: {}'.format(key, value))"
   ]
  },
  {
   "cell_type": "markdown",
   "id": "b67d94c9",
   "metadata": {},
   "source": [
    "### Rendre la série chronologique stationnaire\n",
    "on remarque que la serie chronologique est stationnaire maintenant car le p-value est inferieur à 0,05 car il est egal à 6,48 puisssance -24."
   ]
  },
  {
   "cell_type": "code",
   "execution_count": 17,
   "id": "8d299c5f",
   "metadata": {},
   "outputs": [
    {
     "name": "stdout",
     "output_type": "stream",
     "text": [
      "Statistiques ADF : -12.809826077879672\n",
      "p-value : 6.482322551454655e-24\n",
      "Valeurs Critiques :\n",
      "\t1%: -3.4370678095881804\n",
      "\t5%: -2.8645058608075264\n",
      "\t10%: -2.568349178354273\n"
     ]
    }
   ],
   "source": [
    "result = adfuller(df3['tmp_air'].diff()[1:])\n",
    " \n",
    "print('Statistiques ADF : {}'.format(result[0]))\n",
    "print('p-value : {}'.format(result[1]))\n",
    "print('Valeurs Critiques :')\n",
    "for key, value in result[4].items():\n",
    "    print('\\t{}: {}'.format(key, value))"
   ]
  },
  {
   "cell_type": "markdown",
   "id": "6678c204",
   "metadata": {},
   "source": [
    "### Comment choisir les parametres de ARIMA\n",
    "on voit que le model à (2,0,3) comme meilleur parametre"
   ]
  },
  {
   "cell_type": "code",
   "execution_count": 18,
   "id": "51622427",
   "metadata": {},
   "outputs": [],
   "source": [
    "from pmdarima import auto_arima\n",
    "#ignore harless warnings\n",
    "import warnings\n",
    "\n",
    "warnings.filterwarnings(\"ignore\")"
   ]
  },
  {
   "cell_type": "code",
   "execution_count": 38,
   "id": "8f97b34f",
   "metadata": {},
   "outputs": [
    {
     "name": "stdout",
     "output_type": "stream",
     "text": [
      "Performing stepwise search to minimize aic\n",
      " ARIMA(2,0,2)(0,0,0)[0] intercept   : AIC=3280.804, Time=3.35 sec\n",
      " ARIMA(0,0,0)(0,0,0)[0] intercept   : AIC=6135.142, Time=0.07 sec\n",
      " ARIMA(1,0,0)(0,0,0)[0] intercept   : AIC=3883.006, Time=0.34 sec\n",
      " ARIMA(0,0,1)(0,0,0)[0] intercept   : AIC=5020.665, Time=0.66 sec\n",
      " ARIMA(0,0,0)(0,0,0)[0]             : AIC=8761.731, Time=0.05 sec\n",
      " ARIMA(1,0,2)(0,0,0)[0] intercept   : AIC=3477.335, Time=1.48 sec\n",
      " ARIMA(2,0,1)(0,0,0)[0] intercept   : AIC=3288.626, Time=1.18 sec\n",
      " ARIMA(3,0,2)(0,0,0)[0] intercept   : AIC=3290.567, Time=2.96 sec\n",
      " ARIMA(2,0,3)(0,0,0)[0] intercept   : AIC=3280.085, Time=2.37 sec\n",
      " ARIMA(1,0,3)(0,0,0)[0] intercept   : AIC=3418.511, Time=1.00 sec\n",
      " ARIMA(3,0,3)(0,0,0)[0] intercept   : AIC=3284.291, Time=3.43 sec\n",
      " ARIMA(2,0,4)(0,0,0)[0] intercept   : AIC=3282.078, Time=2.90 sec\n",
      " ARIMA(1,0,4)(0,0,0)[0] intercept   : AIC=3396.636, Time=1.25 sec\n",
      " ARIMA(3,0,4)(0,0,0)[0] intercept   : AIC=3282.838, Time=4.03 sec\n",
      " ARIMA(2,0,3)(0,0,0)[0]             : AIC=3465.831, Time=0.75 sec\n",
      "\n",
      "Best model:  ARIMA(2,0,3)(0,0,0)[0] intercept\n",
      "Total fit time: 25.863 seconds\n"
     ]
    },
    {
     "data": {
      "text/html": [
       "<table class=\"simpletable\">\n",
       "<caption>SARIMAX Results</caption>\n",
       "<tr>\n",
       "  <th>Dep. Variable:</th>           <td>y</td>        <th>  No. Observations:  </th>   <td>1000</td>   \n",
       "</tr>\n",
       "<tr>\n",
       "  <th>Model:</th>           <td>SARIMAX(2, 0, 3)</td> <th>  Log Likelihood     </th> <td>-1633.043</td>\n",
       "</tr>\n",
       "<tr>\n",
       "  <th>Date:</th>            <td>Thu, 09 Feb 2023</td> <th>  AIC                </th> <td>3280.085</td> \n",
       "</tr>\n",
       "<tr>\n",
       "  <th>Time:</th>                <td>23:15:31</td>     <th>  BIC                </th> <td>3314.439</td> \n",
       "</tr>\n",
       "<tr>\n",
       "  <th>Sample:</th>             <td>11-01-2018</td>    <th>  HQIC               </th> <td>3293.142</td> \n",
       "</tr>\n",
       "<tr>\n",
       "  <th></th>                   <td>- 12-13-2018</td>   <th>                     </th>     <td> </td>    \n",
       "</tr>\n",
       "<tr>\n",
       "  <th>Covariance Type:</th>        <td>opg</td>       <th>                     </th>     <td> </td>    \n",
       "</tr>\n",
       "</table>\n",
       "<table class=\"simpletable\">\n",
       "<tr>\n",
       "      <td></td>         <th>coef</th>     <th>std err</th>      <th>z</th>      <th>P>|z|</th>  <th>[0.025</th>    <th>0.975]</th>  \n",
       "</tr>\n",
       "<tr>\n",
       "  <th>intercept</th> <td>    1.1872</td> <td>    0.095</td> <td>   12.452</td> <td> 0.000</td> <td>    1.000</td> <td>    1.374</td>\n",
       "</tr>\n",
       "<tr>\n",
       "  <th>ar.L1</th>     <td>    1.8457</td> <td>    0.022</td> <td>   82.532</td> <td> 0.000</td> <td>    1.802</td> <td>    1.890</td>\n",
       "</tr>\n",
       "<tr>\n",
       "  <th>ar.L2</th>     <td>   -0.9094</td> <td>    0.020</td> <td>  -45.704</td> <td> 0.000</td> <td>   -0.948</td> <td>   -0.870</td>\n",
       "</tr>\n",
       "<tr>\n",
       "  <th>ma.L1</th>     <td>   -0.5150</td> <td>    0.035</td> <td>  -14.911</td> <td> 0.000</td> <td>   -0.583</td> <td>   -0.447</td>\n",
       "</tr>\n",
       "<tr>\n",
       "  <th>ma.L2</th>     <td>   -0.0674</td> <td>    0.034</td> <td>   -1.966</td> <td> 0.049</td> <td>   -0.135</td> <td>   -0.000</td>\n",
       "</tr>\n",
       "<tr>\n",
       "  <th>ma.L3</th>     <td>   -0.0517</td> <td>    0.039</td> <td>   -1.333</td> <td> 0.183</td> <td>   -0.128</td> <td>    0.024</td>\n",
       "</tr>\n",
       "<tr>\n",
       "  <th>sigma2</th>    <td>    1.5288</td> <td>    0.052</td> <td>   29.554</td> <td> 0.000</td> <td>    1.427</td> <td>    1.630</td>\n",
       "</tr>\n",
       "</table>\n",
       "<table class=\"simpletable\">\n",
       "<tr>\n",
       "  <th>Ljung-Box (L1) (Q):</th>     <td>0.00</td> <th>  Jarque-Bera (JB):  </th> <td>268.83</td>\n",
       "</tr>\n",
       "<tr>\n",
       "  <th>Prob(Q):</th>                <td>0.97</td> <th>  Prob(JB):          </th>  <td>0.00</td> \n",
       "</tr>\n",
       "<tr>\n",
       "  <th>Heteroskedasticity (H):</th> <td>1.64</td> <th>  Skew:              </th>  <td>-0.37</td>\n",
       "</tr>\n",
       "<tr>\n",
       "  <th>Prob(H) (two-sided):</th>    <td>0.00</td> <th>  Kurtosis:          </th>  <td>5.43</td> \n",
       "</tr>\n",
       "</table><br/><br/>Warnings:<br/>[1] Covariance matrix calculated using the outer product of gradients (complex-step)."
      ],
      "text/plain": [
       "<class 'statsmodels.iolib.summary.Summary'>\n",
       "\"\"\"\n",
       "                               SARIMAX Results                                \n",
       "==============================================================================\n",
       "Dep. Variable:                      y   No. Observations:                 1000\n",
       "Model:               SARIMAX(2, 0, 3)   Log Likelihood               -1633.043\n",
       "Date:                Thu, 09 Feb 2023   AIC                           3280.085\n",
       "Time:                        23:15:31   BIC                           3314.439\n",
       "Sample:                    11-01-2018   HQIC                          3293.142\n",
       "                         - 12-13-2018                                         \n",
       "Covariance Type:                  opg                                         \n",
       "==============================================================================\n",
       "                 coef    std err          z      P>|z|      [0.025      0.975]\n",
       "------------------------------------------------------------------------------\n",
       "intercept      1.1872      0.095     12.452      0.000       1.000       1.374\n",
       "ar.L1          1.8457      0.022     82.532      0.000       1.802       1.890\n",
       "ar.L2         -0.9094      0.020    -45.704      0.000      -0.948      -0.870\n",
       "ma.L1         -0.5150      0.035    -14.911      0.000      -0.583      -0.447\n",
       "ma.L2         -0.0674      0.034     -1.966      0.049      -0.135      -0.000\n",
       "ma.L3         -0.0517      0.039     -1.333      0.183      -0.128       0.024\n",
       "sigma2         1.5288      0.052     29.554      0.000       1.427       1.630\n",
       "===================================================================================\n",
       "Ljung-Box (L1) (Q):                   0.00   Jarque-Bera (JB):               268.83\n",
       "Prob(Q):                              0.97   Prob(JB):                         0.00\n",
       "Heteroskedasticity (H):               1.64   Skew:                            -0.37\n",
       "Prob(H) (two-sided):                  0.00   Kurtosis:                         5.43\n",
       "===================================================================================\n",
       "\n",
       "Warnings:\n",
       "[1] Covariance matrix calculated using the outer product of gradients (complex-step).\n",
       "\"\"\""
      ]
     },
     "execution_count": 38,
     "metadata": {},
     "output_type": "execute_result"
    }
   ],
   "source": [
    "stepwise_fit = auto_arima(df3['tmp_air'], trace = True, suppress_warnings = True)\n",
    "stepwise_fit.summary()"
   ]
  },
  {
   "cell_type": "markdown",
   "id": "dd9c1017",
   "metadata": {},
   "source": [
    "### Split des données d'entrainement et test"
   ]
  },
  {
   "cell_type": "code",
   "execution_count": 39,
   "id": "2285a788",
   "metadata": {},
   "outputs": [
    {
     "name": "stdout",
     "output_type": "stream",
     "text": [
      "(1000, 1)\n",
      "(800, 1) (200, 1)\n"
     ]
    }
   ],
   "source": [
    "print(df3.shape) \n",
    "train = df3.iloc[0:800]\n",
    "test = df3.iloc[800:]\n",
    "print(train.shape, test.shape)"
   ]
  },
  {
   "cell_type": "markdown",
   "id": "79714e84",
   "metadata": {},
   "source": [
    "### Entrainement du model"
   ]
  },
  {
   "cell_type": "code",
   "execution_count": 41,
   "id": "a3ce8610",
   "metadata": {},
   "outputs": [
    {
     "name": "stdout",
     "output_type": "stream",
     "text": [
      "                               SARIMAX Results                                \n",
      "==============================================================================\n",
      "Dep. Variable:                tmp_air   No. Observations:                  800\n",
      "Model:                 ARIMA(2, 0, 3)   Log Likelihood               -1273.373\n",
      "Date:                Thu, 09 Feb 2023   AIC                           2560.746\n",
      "Time:                        23:19:58   BIC                           2593.538\n",
      "Sample:                    11-01-2018   HQIC                          2573.343\n",
      "                         - 12-05-2018                                         \n",
      "Covariance Type:                  opg                                         \n",
      "==============================================================================\n",
      "                 coef    std err          z      P>|z|      [0.025      0.975]\n",
      "------------------------------------------------------------------------------\n",
      "const         18.6555      0.227     82.018      0.000      18.210      19.101\n",
      "ar.L1          1.8400      0.024     75.187      0.000       1.792       1.888\n",
      "ar.L2         -0.9042      0.022    -41.373      0.000      -0.947      -0.861\n",
      "ma.L1         -0.5352      0.038    -14.262      0.000      -0.609      -0.462\n",
      "ma.L2         -0.0779      0.038     -2.065      0.039      -0.152      -0.004\n",
      "ma.L3         -0.0601      0.044     -1.377      0.168      -0.146       0.025\n",
      "sigma2         1.4067      0.055     25.760      0.000       1.300       1.514\n",
      "===================================================================================\n",
      "Ljung-Box (L1) (Q):                   0.00   Jarque-Bera (JB):               280.34\n",
      "Prob(Q):                              0.97   Prob(JB):                         0.00\n",
      "Heteroskedasticity (H):               1.46   Skew:                            -0.51\n",
      "Prob(H) (two-sided):                  0.00   Kurtosis:                         5.72\n",
      "===================================================================================\n",
      "\n",
      "Warnings:\n",
      "[1] Covariance matrix calculated using the outer product of gradients (complex-step).\n"
     ]
    }
   ],
   "source": [
    "from statsmodels.tsa.arima.model import ARIMA\n",
    "model_arima = ARIMA(train, order = (2,0,3))\n",
    "\n",
    "model_fit = model_arima.fit()\n",
    "print(model_fit.summary())"
   ]
  },
  {
   "cell_type": "markdown",
   "id": "b2ccddbe",
   "metadata": {},
   "source": [
    "### Faire la prediction sur le test"
   ]
  },
  {
   "cell_type": "code",
   "execution_count": 42,
   "id": "83f83e3c",
   "metadata": {},
   "outputs": [
    {
     "name": "stdout",
     "output_type": "stream",
     "text": [
      "<statsmodels.tsa.arima.model.ARIMAResultsWrapper object at 0x000001A0B86DE430>\n"
     ]
    }
   ],
   "source": [
    "start = len(train)\n",
    "end = len(train) + len(test) - 1\n",
    "pred = model_fit.predict(start = start, end = end, typ = 'levels')\n",
    "print(model_fit)"
   ]
  },
  {
   "cell_type": "code",
   "execution_count": 43,
   "id": "512db515",
   "metadata": {},
   "outputs": [
    {
     "data": {
      "text/plain": [
       "<AxesSubplot:xlabel='Datetime'>"
      ]
     },
     "execution_count": 43,
     "metadata": {},
     "output_type": "execute_result"
    },
    {
     "data": {
      "image/png": "[encoded data removed]",
      "text/plain": [
       "<Figure size 1200x600 with 1 Axes>"
      ]
     },
     "metadata": {},
     "output_type": "display_data"
    }
   ],
   "source": [
    "pred.plot(legend = True)\n",
    "test['tmp_air'].plot(legend = True)"
   ]
  },
  {
   "cell_type": "markdown",
   "id": "cf860795",
   "metadata": {},
   "source": [
    "### Les metrics utilisés en serie temporelle"
   ]
  },
  {
   "cell_type": "code",
   "execution_count": 45,
   "id": "94f58cfc",
   "metadata": {},
   "outputs": [
    {
     "name": "stdout",
     "output_type": "stream",
     "text": [
      "6.4947741518215745\n",
      "0.48552932611776956\n",
      "0.26114270314897337\n",
      "0.3857999894070406\n"
     ]
    }
   ],
   "source": [
    "from sklearn.metrics import mean_squared_error\n",
    "from math import sqrt\n",
    "rmse = sqrt(mean_squared_error(pred, test['tmp_air']))\n",
    "corr = np.corrcoef(pred, test['tmp_air'])[0,1]   # corr\n",
    "mins = np.amin(np.hstack([pred[:,None], test['tmp_air'][:,None]]), axis=1)\n",
    "maxs = np.amax(np.hstack([pred[:,None], test['tmp_air'][:,None]]), axis=1)\n",
    "minmax = 1 - np.mean(mins/maxs) \n",
    "mape = np.mean(np.abs(pred - test['tmp_air'])/np.abs(test['tmp_air']))\n",
    "print(rmse)\n",
    "print(corr)\n",
    "print(minmax)\n",
    "print(mape)\n"
   ]
  },
  {
   "cell_type": "code",
   "execution_count": 47,
   "id": "357ccf4b",
   "metadata": {},
   "outputs": [
    {
     "data": {
      "text/html": [
       "<div>\n",
       "<style scoped>\n",
       "    .dataframe tbody tr th:only-of-type {\n",
       "        vertical-align: middle;\n",
       "    }\n",
       "\n",
       "    .dataframe tbody tr th {\n",
       "        vertical-align: top;\n",
       "    }\n",
       "\n",
       "    .dataframe thead th {\n",
       "        text-align: right;\n",
       "    }\n",
       "</style>\n",
       "<table border=\"1\" class=\"dataframe\">\n",
       "  <thead>\n",
       "    <tr style=\"text-align: right;\">\n",
       "      <th></th>\n",
       "      <th>tmp_air</th>\n",
       "    </tr>\n",
       "    <tr>\n",
       "      <th>Datetime</th>\n",
       "      <th></th>\n",
       "    </tr>\n",
       "  </thead>\n",
       "  <tbody>\n",
       "    <tr>\n",
       "      <th>2018-12-05 07:00:00</th>\n",
       "      <td>5.7</td>\n",
       "    </tr>\n",
       "    <tr>\n",
       "      <th>2018-12-05 08:00:00</th>\n",
       "      <td>4.9</td>\n",
       "    </tr>\n",
       "    <tr>\n",
       "      <th>2018-12-05 09:00:00</th>\n",
       "      <td>5.3</td>\n",
       "    </tr>\n",
       "    <tr>\n",
       "      <th>2018-12-05 10:00:00</th>\n",
       "      <td>10.4</td>\n",
       "    </tr>\n",
       "    <tr>\n",
       "      <th>2018-12-05 11:00:00</th>\n",
       "      <td>16.2</td>\n",
       "    </tr>\n",
       "    <tr>\n",
       "      <th>...</th>\n",
       "      <td>...</td>\n",
       "    </tr>\n",
       "    <tr>\n",
       "      <th>2018-12-13 10:00:00</th>\n",
       "      <td>16.8</td>\n",
       "    </tr>\n",
       "    <tr>\n",
       "      <th>2018-12-13 11:00:00</th>\n",
       "      <td>20.4</td>\n",
       "    </tr>\n",
       "    <tr>\n",
       "      <th>2018-12-13 12:00:00</th>\n",
       "      <td>23.6</td>\n",
       "    </tr>\n",
       "    <tr>\n",
       "      <th>2018-12-13 13:00:00</th>\n",
       "      <td>24.5</td>\n",
       "    </tr>\n",
       "    <tr>\n",
       "      <th>2018-12-13 14:00:00</th>\n",
       "      <td>28.1</td>\n",
       "    </tr>\n",
       "  </tbody>\n",
       "</table>\n",
       "<p>200 rows × 1 columns</p>\n",
       "</div>"
      ],
      "text/plain": [
       "                     tmp_air\n",
       "Datetime                    \n",
       "2018-12-05 07:00:00      5.7\n",
       "2018-12-05 08:00:00      4.9\n",
       "2018-12-05 09:00:00      5.3\n",
       "2018-12-05 10:00:00     10.4\n",
       "2018-12-05 11:00:00     16.2\n",
       "...                      ...\n",
       "2018-12-13 10:00:00     16.8\n",
       "2018-12-13 11:00:00     20.4\n",
       "2018-12-13 12:00:00     23.6\n",
       "2018-12-13 13:00:00     24.5\n",
       "2018-12-13 14:00:00     28.1\n",
       "\n",
       "[200 rows x 1 columns]"
      ]
     },
     "execution_count": 47,
     "metadata": {},
     "output_type": "execute_result"
    }
   ],
   "source": [
    "test"
   ]
  },
  {
   "cell_type": "markdown",
   "id": "25d29438",
   "metadata": {},
   "source": [
    "### Model VAR\n",
    "Ce model est un model multivarié et aprtire de la matrice de correlation on peur voir que les colonnes qui sont proches de la colonne cibles tmp_aire est tmp_pt_rose et rad_global"
   ]
  },
  {
   "cell_type": "markdown",
   "id": "859c231a",
   "metadata": {},
   "source": [
    "### Importation du model"
   ]
  },
  {
   "cell_type": "code",
   "execution_count": 48,
   "id": "7bc54d27",
   "metadata": {},
   "outputs": [],
   "source": [
    "from statsmodels.tsa.api import VAR\n",
    "from statsmodels.tsa.stattools import adfuller\n",
    "from statsmodels.tools.eval_measures import rmse, aic\n",
    "from statsmodels.tsa.vector_ar.vecm import coint_johansen"
   ]
  },
  {
   "cell_type": "markdown",
   "id": "decb8aa5",
   "metadata": {},
   "source": [
    "### Tester la causabilité"
   ]
  },
  {
   "cell_type": "code",
   "execution_count": 19,
   "id": "8debea5d",
   "metadata": {},
   "outputs": [
    {
     "data": {
      "text/html": [
       "<div>\n",
       "<style scoped>\n",
       "    .dataframe tbody tr th:only-of-type {\n",
       "        vertical-align: middle;\n",
       "    }\n",
       "\n",
       "    .dataframe tbody tr th {\n",
       "        vertical-align: top;\n",
       "    }\n",
       "\n",
       "    .dataframe thead th {\n",
       "        text-align: right;\n",
       "    }\n",
       "</style>\n",
       "<table border=\"1\" class=\"dataframe\">\n",
       "  <thead>\n",
       "    <tr style=\"text-align: right;\">\n",
       "      <th></th>\n",
       "      <th>rad_gobal</th>\n",
       "      <th>tmp_air</th>\n",
       "      <th>tmp_pt_rose</th>\n",
       "    </tr>\n",
       "    <tr>\n",
       "      <th>Datetime</th>\n",
       "      <th></th>\n",
       "      <th></th>\n",
       "      <th></th>\n",
       "    </tr>\n",
       "  </thead>\n",
       "  <tbody>\n",
       "    <tr>\n",
       "      <th>2018-11-01 23:00:00</th>\n",
       "      <td>6.0</td>\n",
       "      <td>15.3</td>\n",
       "      <td>14.6</td>\n",
       "    </tr>\n",
       "    <tr>\n",
       "      <th>2018-11-02 00:00:00</th>\n",
       "      <td>6.0</td>\n",
       "      <td>14.2</td>\n",
       "      <td>13.6</td>\n",
       "    </tr>\n",
       "    <tr>\n",
       "      <th>2018-11-02 01:00:00</th>\n",
       "      <td>6.0</td>\n",
       "      <td>13.7</td>\n",
       "      <td>13.2</td>\n",
       "    </tr>\n",
       "    <tr>\n",
       "      <th>2018-11-02 02:00:00</th>\n",
       "      <td>6.0</td>\n",
       "      <td>12.3</td>\n",
       "      <td>11.8</td>\n",
       "    </tr>\n",
       "    <tr>\n",
       "      <th>2018-11-02 03:00:00</th>\n",
       "      <td>6.0</td>\n",
       "      <td>13.1</td>\n",
       "      <td>12.7</td>\n",
       "    </tr>\n",
       "    <tr>\n",
       "      <th>...</th>\n",
       "      <td>...</td>\n",
       "      <td>...</td>\n",
       "      <td>...</td>\n",
       "    </tr>\n",
       "    <tr>\n",
       "      <th>2018-12-13 10:00:00</th>\n",
       "      <td>305.0</td>\n",
       "      <td>16.8</td>\n",
       "      <td>16.2</td>\n",
       "    </tr>\n",
       "    <tr>\n",
       "      <th>2018-12-13 11:00:00</th>\n",
       "      <td>793.0</td>\n",
       "      <td>20.4</td>\n",
       "      <td>17.9</td>\n",
       "    </tr>\n",
       "    <tr>\n",
       "      <th>2018-12-13 12:00:00</th>\n",
       "      <td>1235.0</td>\n",
       "      <td>23.6</td>\n",
       "      <td>18.9</td>\n",
       "    </tr>\n",
       "    <tr>\n",
       "      <th>2018-12-13 13:00:00</th>\n",
       "      <td>1950.0</td>\n",
       "      <td>24.5</td>\n",
       "      <td>18.3</td>\n",
       "    </tr>\n",
       "    <tr>\n",
       "      <th>2018-12-13 14:00:00</th>\n",
       "      <td>3121.0</td>\n",
       "      <td>28.1</td>\n",
       "      <td>17.9</td>\n",
       "    </tr>\n",
       "  </tbody>\n",
       "</table>\n",
       "<p>1000 rows × 3 columns</p>\n",
       "</div>"
      ],
      "text/plain": [
       "                     rad_gobal  tmp_air  tmp_pt_rose\n",
       "Datetime                                            \n",
       "2018-11-01 23:00:00        6.0     15.3         14.6\n",
       "2018-11-02 00:00:00        6.0     14.2         13.6\n",
       "2018-11-02 01:00:00        6.0     13.7         13.2\n",
       "2018-11-02 02:00:00        6.0     12.3         11.8\n",
       "2018-11-02 03:00:00        6.0     13.1         12.7\n",
       "...                        ...      ...          ...\n",
       "2018-12-13 10:00:00      305.0     16.8         16.2\n",
       "2018-12-13 11:00:00      793.0     20.4         17.9\n",
       "2018-12-13 12:00:00     1235.0     23.6         18.9\n",
       "2018-12-13 13:00:00     1950.0     24.5         18.3\n",
       "2018-12-13 14:00:00     3121.0     28.1         17.9\n",
       "\n",
       "[1000 rows x 3 columns]"
      ]
     },
     "execution_count": 19,
     "metadata": {},
     "output_type": "execute_result"
    }
   ],
   "source": [
    "df4 = pd.read_csv('south1_2.csv', parse_dates = ['Datetime'], index_col= 'Datetime', usecols=['Datetime',  'rad_gobal', 'tmp_air', 'tmp_pt_rose'])\n",
    "df5 = df4.iloc[:1000]\n",
    "df5"
   ]
  },
  {
   "cell_type": "markdown",
   "id": "64a24ebf",
   "metadata": {},
   "source": [
    "### Tester la causabilité"
   ]
  },
  {
   "cell_type": "code",
   "execution_count": 55,
   "id": "30cadc8b",
   "metadata": {},
   "outputs": [
    {
     "data": {
      "text/html": [
       "<div>\n",
       "<style scoped>\n",
       "    .dataframe tbody tr th:only-of-type {\n",
       "        vertical-align: middle;\n",
       "    }\n",
       "\n",
       "    .dataframe tbody tr th {\n",
       "        vertical-align: top;\n",
       "    }\n",
       "\n",
       "    .dataframe thead th {\n",
       "        text-align: right;\n",
       "    }\n",
       "</style>\n",
       "<table border=\"1\" class=\"dataframe\">\n",
       "  <thead>\n",
       "    <tr style=\"text-align: right;\">\n",
       "      <th></th>\n",
       "      <th>rad_gobal_x</th>\n",
       "      <th>tmp_air_x</th>\n",
       "      <th>tmp_pt_rose_x</th>\n",
       "    </tr>\n",
       "  </thead>\n",
       "  <tbody>\n",
       "    <tr>\n",
       "      <th>rad_gobal_y</th>\n",
       "      <td>1.0</td>\n",
       "      <td>0.0</td>\n",
       "      <td>0.0</td>\n",
       "    </tr>\n",
       "    <tr>\n",
       "      <th>tmp_air_y</th>\n",
       "      <td>0.0</td>\n",
       "      <td>1.0</td>\n",
       "      <td>0.0</td>\n",
       "    </tr>\n",
       "    <tr>\n",
       "      <th>tmp_pt_rose_y</th>\n",
       "      <td>0.0</td>\n",
       "      <td>0.0</td>\n",
       "      <td>1.0</td>\n",
       "    </tr>\n",
       "  </tbody>\n",
       "</table>\n",
       "</div>"
      ],
      "text/plain": [
       "               rad_gobal_x  tmp_air_x  tmp_pt_rose_x\n",
       "rad_gobal_y            1.0        0.0            0.0\n",
       "tmp_air_y              0.0        1.0            0.0\n",
       "tmp_pt_rose_y          0.0        0.0            1.0"
      ]
     },
     "execution_count": 55,
     "metadata": {},
     "output_type": "execute_result"
    }
   ],
   "source": [
    "from statsmodels.tsa.stattools import grangercausalitytests\n",
    "maxlag=12\n",
    "test = 'ssr_chi2test'\n",
    "def grangers_causation_matrix(data, variables, test='ssr_chi2test', verbose=False):    \n",
    "    \"\"\"Check Granger Causality of all possible combinations of the Time series.\n",
    "    The rows are the response variable, columns are predictors. The values in the table \n",
    "    are the P-Values. P-Values lesser than the significance level (0.05), implies \n",
    "    the Null Hypothesis that the coefficients of the corresponding past values is \n",
    "    zero, that is, the X does not cause Y can be rejected.\n",
    "\n",
    "    data      : pandas dataframe containing the time series variables\n",
    "    variables : list containing names of the time series variables.\n",
    "    \"\"\"\n",
    "    df5 = pd.DataFrame(np.zeros((len(variables), len(variables))), columns=variables, index=variables)\n",
    "    for c in df5.columns:\n",
    "        for r in df5.index:\n",
    "            test_result = grangercausalitytests(data[[r, c]], maxlag=maxlag, verbose=False)\n",
    "            p_values = [round(test_result[i+1][0][test][1],4) for i in range(maxlag)]\n",
    "            if verbose: print(f'Y = {r}, X = {c}, P Values = {p_values}')\n",
    "            min_p_value = np.min(p_values)\n",
    "            df5.loc[r, c] = min_p_value\n",
    "    df5.columns = [var + '_x' for var in variables]\n",
    "    df5.index = [var + '_y' for var in variables]\n",
    "    return df5\n",
    "\n",
    "grangers_causation_matrix(df5, variables = df5.columns)  "
   ]
  },
  {
   "cell_type": "markdown",
   "id": "452fc69b",
   "metadata": {},
   "source": [
    "### Test de cointégration"
   ]
  },
  {
   "cell_type": "code",
   "execution_count": 57,
   "id": "8740da53",
   "metadata": {},
   "outputs": [
    {
     "name": "stdout",
     "output_type": "stream",
     "text": [
      "Name   ::  Test Stat > C(95%)    =>   Signif  \n",
      " ----------------------------------------\n",
      "rad_gobal ::  267.62    > 24.2761   =>   True\n",
      "tmp_air ::  81.67     > 12.3212   =>   True\n",
      "tmp_pt_rose ::  0.51      > 4.1296    =>   False\n"
     ]
    }
   ],
   "source": [
    "def cointegration_test(df5, alpha=0.05): \n",
    "    \"\"\"Perform Johanson's Cointegration Test and Report Summary\"\"\"\n",
    "    out = coint_johansen(df5,-1,5)\n",
    "    d = {'0.90':0, '0.95':1, '0.99':2}\n",
    "    traces = out.lr1\n",
    "    cvts = out.cvt[:, d[str(1-alpha)]]\n",
    "    def adjust(val, length= 6): return str(val).ljust(length)\n",
    "\n",
    "    # Summary\n",
    "    print('Name   ::  Test Stat > C(95%)    =>   Signif  \\n', '--'*20)\n",
    "    for col, trace, cvt in zip(df5.columns, traces, cvts):\n",
    "        print(adjust(col), ':: ', adjust(round(trace,2), 9), \">\", adjust(cvt, 8), ' =>  ' , trace > cvt)\n",
    "\n",
    "cointegration_test(df5)\n"
   ]
  },
  {
   "cell_type": "markdown",
   "id": "59250d4d",
   "metadata": {},
   "source": [
    "### Divisez la série en données d'entrainement et de test"
   ]
  },
  {
   "cell_type": "code",
   "execution_count": 60,
   "id": "b01db8d0",
   "metadata": {},
   "outputs": [
    {
     "name": "stdout",
     "output_type": "stream",
     "text": [
      "(996, 3)\n",
      "(4, 3)\n"
     ]
    }
   ],
   "source": [
    "nobs = 4\n",
    "df_train, df_test = df5[0:-nobs], df5[-nobs:]\n",
    "\n",
    "# Check size\n",
    "print(df_train.shape)  \n",
    "print(df_test.shape)  "
   ]
  },
  {
   "cell_type": "markdown",
   "id": "1280d7f8",
   "metadata": {},
   "source": [
    "### Vérifier la stationnarité et rendre la série chronologique stationnaire"
   ]
  },
  {
   "cell_type": "code",
   "execution_count": 61,
   "id": "2aeef221",
   "metadata": {},
   "outputs": [],
   "source": [
    "def adfuller_test(series, signif=0.05, name='', verbose=False):\n",
    "    \"\"\"Perform ADFuller to test for Stationarity of given series and print report\"\"\"\n",
    "    r = adfuller(series, autolag='AIC')\n",
    "    output = {'test_statistic':round(r[0], 4), 'pvalue':round(r[1], 4), 'n_lags':round(r[2], 4), 'n_obs':r[3]}\n",
    "    p_value = output['pvalue'] \n",
    "    def adjust(val, length= 6): return str(val).ljust(length)\n",
    "\n",
    "    # Print Summary\n",
    "    print(f'    Augmented Dickey-Fuller Test on \"{name}\"', \"\\n   \", '-'*47)\n",
    "    print(f' Null Hypothesis: Data has unit root. Non-Stationary.')\n",
    "    print(f' Significance Level    = {signif}')\n",
    "    print(f' Test Statistic        = {output[\"test_statistic\"]}')\n",
    "    print(f' No. Lags Chosen       = {output[\"n_lags\"]}')\n",
    "\n",
    "    for key,val in r[4].items():\n",
    "        print(f' Critical value {adjust(key)} = {round(val, 3)}')\n",
    "\n",
    "    if p_value <= signif:\n",
    "        print(f\" => P-Value = {p_value}. Rejecting Null Hypothesis.\")\n",
    "        print(f\" => Series is Stationary.\")\n",
    "    else:\n",
    "        print(f\" => P-Value = {p_value}. Weak evidence to reject the Null Hypothesis.\")\n",
    "        print(f\" => Series is Non-Stationary.\")    "
   ]
  },
  {
   "cell_type": "code",
   "execution_count": 62,
   "id": "79560e12",
   "metadata": {},
   "outputs": [
    {
     "name": "stdout",
     "output_type": "stream",
     "text": [
      "    Augmented Dickey-Fuller Test on \"rad_gobal\" \n",
      "    -----------------------------------------------\n",
      " Null Hypothesis: Data has unit root. Non-Stationary.\n",
      " Significance Level    = 0.05\n",
      " Test Statistic        = -3.0082\n",
      " No. Lags Chosen       = 22\n",
      " Critical value 1%     = -3.437\n",
      " Critical value 5%     = -2.865\n",
      " Critical value 10%    = -2.568\n",
      " => P-Value = 0.0341. Rejecting Null Hypothesis.\n",
      " => Series is Stationary.\n",
      "\n",
      "\n",
      "    Augmented Dickey-Fuller Test on \"tmp_air\" \n",
      "    -----------------------------------------------\n",
      " Null Hypothesis: Data has unit root. Non-Stationary.\n",
      " Significance Level    = 0.05\n",
      " Test Statistic        = -2.0899\n",
      " No. Lags Chosen       = 22\n",
      " Critical value 1%     = -3.437\n",
      " Critical value 5%     = -2.865\n",
      " Critical value 10%    = -2.568\n",
      " => P-Value = 0.2486. Weak evidence to reject the Null Hypothesis.\n",
      " => Series is Non-Stationary.\n",
      "\n",
      "\n",
      "    Augmented Dickey-Fuller Test on \"tmp_pt_rose\" \n",
      "    -----------------------------------------------\n",
      " Null Hypothesis: Data has unit root. Non-Stationary.\n",
      " Significance Level    = 0.05\n",
      " Test Statistic        = -2.1996\n",
      " No. Lags Chosen       = 22\n",
      " Critical value 1%     = -3.437\n",
      " Critical value 5%     = -2.865\n",
      " Critical value 10%    = -2.568\n",
      " => P-Value = 0.2064. Weak evidence to reject the Null Hypothesis.\n",
      " => Series is Non-Stationary.\n",
      "\n",
      "\n"
     ]
    }
   ],
   "source": [
    "# ADF Test on each column\n",
    "for name, column in df_train.iteritems():\n",
    "    adfuller_test(column, name=column.name)\n",
    "    print('\\n')"
   ]
  },
  {
   "cell_type": "code",
   "execution_count": 65,
   "id": "5e896d41",
   "metadata": {},
   "outputs": [
    {
     "name": "stdout",
     "output_type": "stream",
     "text": [
      "    Augmented Dickey-Fuller Test on \"rad_gobal\" \n",
      "    -----------------------------------------------\n",
      " Null Hypothesis: Data has unit root. Non-Stationary.\n",
      " Significance Level    = 0.05\n",
      " Test Statistic        = -15.3041\n",
      " No. Lags Chosen       = 22\n",
      " Critical value 1%     = -3.437\n",
      " Critical value 5%     = -2.865\n",
      " Critical value 10%    = -2.568\n",
      " => P-Value = 0.0. Rejecting Null Hypothesis.\n",
      " => Series is Stationary.\n",
      "\n",
      "\n",
      "    Augmented Dickey-Fuller Test on \"tmp_air\" \n",
      "    -----------------------------------------------\n",
      " Null Hypothesis: Data has unit root. Non-Stationary.\n",
      " Significance Level    = 0.05\n",
      " Test Statistic        = -12.8098\n",
      " No. Lags Chosen       = 22\n",
      " Critical value 1%     = -3.437\n",
      " Critical value 5%     = -2.865\n",
      " Critical value 10%    = -2.568\n",
      " => P-Value = 0.0. Rejecting Null Hypothesis.\n",
      " => Series is Stationary.\n",
      "\n",
      "\n",
      "    Augmented Dickey-Fuller Test on \"tmp_pt_rose\" \n",
      "    -----------------------------------------------\n",
      " Null Hypothesis: Data has unit root. Non-Stationary.\n",
      " Significance Level    = 0.05\n",
      " Test Statistic        = -9.7945\n",
      " No. Lags Chosen       = 22\n",
      " Critical value 1%     = -3.437\n",
      " Critical value 5%     = -2.865\n",
      " Critical value 10%    = -2.568\n",
      " => P-Value = 0.0. Rejecting Null Hypothesis.\n",
      " => Series is Stationary.\n",
      "\n",
      "\n"
     ]
    }
   ],
   "source": [
    "# 1st difference\n",
    "df_differenced = df5.diff().dropna()\n",
    "for name, column in df_differenced.iteritems():\n",
    "    adfuller_test(column, name=column.name)\n",
    "    print('\\n')"
   ]
  },
  {
   "cell_type": "markdown",
   "id": "1daa16dc",
   "metadata": {},
   "source": [
    "### Comment sélectionner l'ordre (P) du modèle VAR"
   ]
  },
  {
   "cell_type": "code",
   "execution_count": 66,
   "id": "8b6a0872",
   "metadata": {},
   "outputs": [
    {
     "name": "stdout",
     "output_type": "stream",
     "text": [
      "Lag Order = 1\n",
      "AIC :  12.456636727652011\n",
      "BIC :  12.515623740994434\n",
      "FPE :  256950.01644581792\n",
      "HQIC:  12.479058087307468 \n",
      "\n",
      "Lag Order = 2\n",
      "AIC :  12.331532078444276\n",
      "BIC :  12.434841773699238\n",
      "FPE :  226733.99262695227\n",
      "HQIC:  12.37080269736797 \n",
      "\n",
      "Lag Order = 3\n",
      "AIC :  12.277109997265027\n",
      "BIC :  12.424813227915164\n",
      "FPE :  214724.70001785952\n",
      "HQIC:  12.333258451782951 \n",
      "\n",
      "Lag Order = 4\n",
      "AIC :  12.24104832707811\n",
      "BIC :  12.433216132856185\n",
      "FPE :  207119.8288535503\n",
      "HQIC:  12.314103270595027 \n",
      "\n",
      "Lag Order = 5\n",
      "AIC :  12.172754813419246\n",
      "BIC :  12.40945842098415\n",
      "FPE :  193447.8325656265\n",
      "HQIC:  12.2627449767025 \n",
      "\n",
      "Lag Order = 6\n",
      "AIC :  12.129114322356454\n",
      "BIC :  12.41042514597234\n",
      "FPE :  185188.28358136292\n",
      "HQIC:  12.2360685138211 \n",
      "\n",
      "Lag Order = 7\n",
      "AIC :  12.11187132970409\n",
      "BIC :  12.43786097192264\n",
      "FPE :  182023.87732299994\n",
      "HQIC:  12.235818435699361 \n",
      "\n",
      "Lag Order = 8\n",
      "AIC :  12.090410325365335\n",
      "BIC :  12.461150577711196\n",
      "FPE :  178160.91661216997\n",
      "HQIC:  12.231379310462438 \n",
      "\n"
     ]
    }
   ],
   "source": [
    "model = VAR(df_differenced)\n",
    "for i in range(1,9):\n",
    "    result = model.fit(i)\n",
    "    print('Lag Order =', i)\n",
    "    print('AIC : ', result.aic)\n",
    "    print('BIC : ', result.bic)\n",
    "    print('FPE : ', result.fpe)\n",
    "    print('HQIC: ', result.hqic, '\\n')"
   ]
  },
  {
   "cell_type": "markdown",
   "id": "9f44e80f",
   "metadata": {},
   "source": [
    "#### Former le model"
   ]
  },
  {
   "cell_type": "code",
   "execution_count": 67,
   "id": "f8e0db8b",
   "metadata": {},
   "outputs": [
    {
     "data": {
      "text/plain": [
       "  Summary of Regression Results   \n",
       "==================================\n",
       "Model:                         VAR\n",
       "Method:                        OLS\n",
       "Date:           Thu, 09, Feb, 2023\n",
       "Time:                     23:58:31\n",
       "--------------------------------------------------------------------\n",
       "No. of Equations:         3.00000    BIC:                    12.4612\n",
       "Nobs:                     991.000    HQIC:                   12.2314\n",
       "Log likelihood:          -10134.3    FPE:                    178161.\n",
       "AIC:                      12.0904    Det(Omega_mle):         165330.\n",
       "--------------------------------------------------------------------\n",
       "Results for equation rad_gobal\n",
       "=================================================================================\n",
       "                    coefficient       std. error           t-stat            prob\n",
       "---------------------------------------------------------------------------------\n",
       "const                  1.393636        12.771057            0.109           0.913\n",
       "L1.rad_gobal           0.196071         0.039577            4.954           0.000\n",
       "L1.tmp_air            23.945802        13.325278            1.797           0.072\n",
       "L1.tmp_pt_rose        62.293179        13.149438            4.737           0.000\n",
       "L2.rad_gobal           0.119012         0.039807            2.990           0.003\n",
       "L2.tmp_air            25.924105        13.612687            1.904           0.057\n",
       "L2.tmp_pt_rose        30.621128        13.256391            2.310           0.021\n",
       "L3.rad_gobal           0.055333         0.040736            1.358           0.174\n",
       "L3.tmp_air             0.860097        13.495600            0.064           0.949\n",
       "L3.tmp_pt_rose        17.506742        13.328499            1.313           0.189\n",
       "L4.rad_gobal          -0.161995         0.040575           -3.992           0.000\n",
       "L4.tmp_air            26.935859        13.329953            2.021           0.043\n",
       "L4.tmp_pt_rose         6.739345        13.317650            0.506           0.613\n",
       "L5.rad_gobal          -0.098273         0.040679           -2.416           0.016\n",
       "L5.tmp_air             5.170243        13.482121            0.383           0.701\n",
       "L5.tmp_pt_rose        -4.846614        13.316276           -0.364           0.716\n",
       "L6.rad_gobal          -0.130582         0.041668           -3.134           0.002\n",
       "L6.tmp_air            14.462787        13.385406            1.080           0.280\n",
       "L6.tmp_pt_rose        -7.203888        13.109550           -0.550           0.583\n",
       "L7.rad_gobal          -0.161673         0.042419           -3.811           0.000\n",
       "L7.tmp_air            -2.225709        13.035766           -0.171           0.864\n",
       "L7.tmp_pt_rose        -9.366627        12.926686           -0.725           0.469\n",
       "L8.rad_gobal          -0.069433         0.041712           -1.665           0.096\n",
       "L8.tmp_air           -23.510896        11.537233           -2.038           0.042\n",
       "L8.tmp_pt_rose         2.216149        12.859860            0.172           0.863\n",
       "=================================================================================\n",
       "\n",
       "Results for equation tmp_air\n",
       "=================================================================================\n",
       "                    coefficient       std. error           t-stat            prob\n",
       "---------------------------------------------------------------------------------\n",
       "const                  0.008542         0.040321            0.212           0.832\n",
       "L1.rad_gobal           0.000653         0.000125            5.226           0.000\n",
       "L1.tmp_air             0.260879         0.042070            6.201           0.000\n",
       "L1.tmp_pt_rose         0.110823         0.041515            2.669           0.008\n",
       "L2.rad_gobal           0.000889         0.000126            7.071           0.000\n",
       "L2.tmp_air            -0.025244         0.042978           -0.587           0.557\n",
       "L2.tmp_pt_rose         0.055525         0.041853            1.327           0.185\n",
       "L3.rad_gobal           0.000438         0.000129            3.407           0.001\n",
       "L3.tmp_air            -0.096135         0.042608           -2.256           0.024\n",
       "L3.tmp_pt_rose         0.071283         0.042081            1.694           0.090\n",
       "L4.rad_gobal           0.000146         0.000128            1.140           0.254\n",
       "L4.tmp_air            -0.064729         0.042085           -1.538           0.124\n",
       "L4.tmp_pt_rose         0.010979         0.042046            0.261           0.794\n",
       "L5.rad_gobal           0.000524         0.000128            4.081           0.000\n",
       "L5.tmp_air            -0.097402         0.042566           -2.288           0.022\n",
       "L5.tmp_pt_rose         0.013918         0.042042            0.331           0.741\n",
       "L6.rad_gobal           0.000427         0.000132            3.243           0.001\n",
       "L6.tmp_air            -0.010011         0.042260           -0.237           0.813\n",
       "L6.tmp_pt_rose        -0.038430         0.041389           -0.928           0.353\n",
       "L7.rad_gobal          -0.000112         0.000134           -0.839           0.401\n",
       "L7.tmp_air            -0.002934         0.041156           -0.071           0.943\n",
       "L7.tmp_pt_rose        -0.036735         0.040812           -0.900           0.368\n",
       "L8.rad_gobal          -0.000018         0.000132           -0.139           0.890\n",
       "L8.tmp_air            -0.027087         0.036425           -0.744           0.457\n",
       "L8.tmp_pt_rose         0.006971         0.040601            0.172           0.864\n",
       "=================================================================================\n",
       "\n",
       "Results for equation tmp_pt_rose\n",
       "=================================================================================\n",
       "                    coefficient       std. error           t-stat            prob\n",
       "---------------------------------------------------------------------------------\n",
       "const                  0.004920         0.033193            0.148           0.882\n",
       "L1.rad_gobal           0.000077         0.000103            0.750           0.453\n",
       "L1.tmp_air             0.050842         0.034633            1.468           0.142\n",
       "L1.tmp_pt_rose        -0.004491         0.034176           -0.131           0.895\n",
       "L2.rad_gobal          -0.000209         0.000103           -2.022           0.043\n",
       "L2.tmp_air             0.099285         0.035380            2.806           0.005\n",
       "L2.tmp_pt_rose        -0.086775         0.034454           -2.519           0.012\n",
       "L3.rad_gobal          -0.000212         0.000106           -2.001           0.045\n",
       "L3.tmp_air            -0.053460         0.035076           -1.524           0.127\n",
       "L3.tmp_pt_rose        -0.098742         0.034642           -2.850           0.004\n",
       "L4.rad_gobal          -0.000055         0.000105           -0.519           0.604\n",
       "L4.tmp_air             0.089312         0.034646            2.578           0.010\n",
       "L4.tmp_pt_rose        -0.133678         0.034614           -3.862           0.000\n",
       "L5.rad_gobal          -0.000048         0.000106           -0.457           0.648\n",
       "L5.tmp_air            -0.074169         0.035041           -2.117           0.034\n",
       "L5.tmp_pt_rose        -0.057502         0.034610           -1.661           0.097\n",
       "L6.rad_gobal           0.000112         0.000108            1.033           0.302\n",
       "L6.tmp_air            -0.005096         0.034790           -0.146           0.884\n",
       "L6.tmp_pt_rose        -0.048543         0.034073           -1.425           0.154\n",
       "L7.rad_gobal           0.000107         0.000110            0.968           0.333\n",
       "L7.tmp_air            -0.011745         0.033881           -0.347           0.729\n",
       "L7.tmp_pt_rose        -0.081277         0.033597           -2.419           0.016\n",
       "L8.rad_gobal           0.000127         0.000108            1.173           0.241\n",
       "L8.tmp_air            -0.014335         0.029986           -0.478           0.633\n",
       "L8.tmp_pt_rose        -0.141377         0.033424           -4.230           0.000\n",
       "=================================================================================\n",
       "\n",
       "Correlation matrix of residuals\n",
       "               rad_gobal   tmp_air  tmp_pt_rose\n",
       "rad_gobal       1.000000  0.570879     0.043970\n",
       "tmp_air         0.570879  1.000000     0.326898\n",
       "tmp_pt_rose     0.043970  0.326898     1.000000\n",
       "\n"
      ]
     },
     "execution_count": 67,
     "metadata": {},
     "output_type": "execute_result"
    }
   ],
   "source": [
    "model_fitted = model.fit(8)\n",
    "model_fitted.summary()"
   ]
  },
  {
   "cell_type": "markdown",
   "id": "13b7aed1",
   "metadata": {},
   "source": [
    "### Prediction"
   ]
  },
  {
   "cell_type": "code",
   "execution_count": 70,
   "id": "b560ce03",
   "metadata": {},
   "outputs": [
    {
     "name": "stdout",
     "output_type": "stream",
     "text": [
      "8\n"
     ]
    },
    {
     "data": {
      "text/plain": [
       "array([[ 0.000e+00, -3.000e-01, -2.000e-01],\n",
       "       [ 0.000e+00, -3.000e-01, -3.000e-01],\n",
       "       [-1.330e+02,  1.100e+00,  1.100e+00],\n",
       "       [ 2.580e+02,  1.800e+00,  1.700e+00],\n",
       "       [ 4.880e+02,  3.600e+00,  1.700e+00],\n",
       "       [ 4.420e+02,  3.200e+00,  1.000e+00],\n",
       "       [ 7.150e+02,  9.000e-01, -6.000e-01],\n",
       "       [ 1.171e+03,  3.600e+00, -4.000e-01]])"
      ]
     },
     "execution_count": 70,
     "metadata": {},
     "output_type": "execute_result"
    }
   ],
   "source": [
    "lag_order = model_fitted.k_ar\n",
    "print(lag_order)  #> 4\n",
    "\n",
    "\n",
    "forecast_input = df_differenced.values[-lag_order:]\n",
    "forecast_input"
   ]
  },
  {
   "cell_type": "code",
   "execution_count": 73,
   "id": "2543b3f7",
   "metadata": {},
   "outputs": [
    {
     "data": {
      "text/html": [
       "<div>\n",
       "<style scoped>\n",
       "    .dataframe tbody tr th:only-of-type {\n",
       "        vertical-align: middle;\n",
       "    }\n",
       "\n",
       "    .dataframe tbody tr th {\n",
       "        vertical-align: top;\n",
       "    }\n",
       "\n",
       "    .dataframe thead th {\n",
       "        text-align: right;\n",
       "    }\n",
       "</style>\n",
       "<table border=\"1\" class=\"dataframe\">\n",
       "  <thead>\n",
       "    <tr style=\"text-align: right;\">\n",
       "      <th></th>\n",
       "      <th>rad_gobal_2d</th>\n",
       "      <th>tmp_air_2d</th>\n",
       "      <th>tmp_pt_rose_2d</th>\n",
       "    </tr>\n",
       "    <tr>\n",
       "      <th>Datetime</th>\n",
       "      <th></th>\n",
       "      <th></th>\n",
       "      <th></th>\n",
       "    </tr>\n",
       "  </thead>\n",
       "  <tbody>\n",
       "    <tr>\n",
       "      <th>2018-12-13 11:00:00</th>\n",
       "      <td>467.574358</td>\n",
       "      <td>1.953893</td>\n",
       "      <td>-0.281066</td>\n",
       "    </tr>\n",
       "    <tr>\n",
       "      <th>2018-12-13 12:00:00</th>\n",
       "      <td>351.609215</td>\n",
       "      <td>1.705325</td>\n",
       "      <td>-0.244630</td>\n",
       "    </tr>\n",
       "    <tr>\n",
       "      <th>2018-12-13 13:00:00</th>\n",
       "      <td>27.411160</td>\n",
       "      <td>1.108923</td>\n",
       "      <td>-0.721619</td>\n",
       "    </tr>\n",
       "    <tr>\n",
       "      <th>2018-12-13 14:00:00</th>\n",
       "      <td>-246.499246</td>\n",
       "      <td>0.649550</td>\n",
       "      <td>-0.125160</td>\n",
       "    </tr>\n",
       "  </tbody>\n",
       "</table>\n",
       "</div>"
      ],
      "text/plain": [
       "                     rad_gobal_2d  tmp_air_2d  tmp_pt_rose_2d\n",
       "Datetime                                                     \n",
       "2018-12-13 11:00:00    467.574358    1.953893       -0.281066\n",
       "2018-12-13 12:00:00    351.609215    1.705325       -0.244630\n",
       "2018-12-13 13:00:00     27.411160    1.108923       -0.721619\n",
       "2018-12-13 14:00:00   -246.499246    0.649550       -0.125160"
      ]
     },
     "execution_count": 73,
     "metadata": {},
     "output_type": "execute_result"
    }
   ],
   "source": [
    "fc = model_fitted.forecast(y=forecast_input, steps=nobs)\n",
    "df_forecast = pd.DataFrame(fc, index=df5.index[-nobs:], columns=df5.columns + '_2d')\n",
    "df_forecast"
   ]
  },
  {
   "cell_type": "code",
   "execution_count": 74,
   "id": "1008f46c",
   "metadata": {},
   "outputs": [],
   "source": [
    "def invert_transformation(df_train, df_forecast, second_diff=False):\n",
    "    \"\"\"Revert back the differencing to get the forecast to original scale.\"\"\"\n",
    "    df_fc = df_forecast.copy()\n",
    "    columns = df_train.columns\n",
    "    for col in columns:        \n",
    "        # Roll back 2nd Diff\n",
    "        if second_diff:\n",
    "            df_fc[str(col)+'_1d'] = (df_train[col].iloc[-1]-df_train[col].iloc[-2]) + df_fc[str(col)+'_2d'].cumsum()\n",
    "        # Roll back 1st Diff\n",
    "        df_fc[str(col)+'_forecast'] = df_train[col].iloc[-1] + df_fc[str(col)+'_1d'].cumsum()\n",
    "    return df_fc"
   ]
  },
  {
   "cell_type": "code",
   "execution_count": 75,
   "id": "828bc189",
   "metadata": {},
   "outputs": [
    {
     "name": "stdout",
     "output_type": "stream",
     "text": [
      "                     rad_gobal_2d  tmp_air_2d  tmp_pt_rose_2d  rad_gobal_1d  \\\n",
      "Datetime                                                                      \n",
      "2018-12-13 11:00:00    467.574358    1.953893       -0.281066    725.574358   \n",
      "2018-12-13 12:00:00    351.609215    1.705325       -0.244630   1077.183573   \n",
      "2018-12-13 13:00:00     27.411160    1.108923       -0.721619   1104.594733   \n",
      "2018-12-13 14:00:00   -246.499246    0.649550       -0.125160    858.095486   \n",
      "\n",
      "                     rad_gobal_forecast  tmp_air_1d  tmp_air_forecast  \\\n",
      "Datetime                                                                \n",
      "2018-12-13 11:00:00         1030.574358    3.753893         20.553893   \n",
      "2018-12-13 12:00:00         2107.757931    5.459218         26.013111   \n",
      "2018-12-13 13:00:00         3212.352664    6.568141         32.581252   \n",
      "2018-12-13 14:00:00         4070.448150    7.217692         39.798944   \n",
      "\n",
      "                     tmp_pt_rose_1d  tmp_pt_rose_forecast  \n",
      "Datetime                                                   \n",
      "2018-12-13 11:00:00        1.418934             17.618934  \n",
      "2018-12-13 12:00:00        1.174304             18.793238  \n",
      "2018-12-13 13:00:00        0.452685             19.245922  \n",
      "2018-12-13 14:00:00        0.327525             19.573447  \n"
     ]
    },
    {
     "data": {
      "text/html": [
       "<div>\n",
       "<style scoped>\n",
       "    .dataframe tbody tr th:only-of-type {\n",
       "        vertical-align: middle;\n",
       "    }\n",
       "\n",
       "    .dataframe tbody tr th {\n",
       "        vertical-align: top;\n",
       "    }\n",
       "\n",
       "    .dataframe thead th {\n",
       "        text-align: right;\n",
       "    }\n",
       "</style>\n",
       "<table border=\"1\" class=\"dataframe\">\n",
       "  <thead>\n",
       "    <tr style=\"text-align: right;\">\n",
       "      <th></th>\n",
       "      <th>rad_gobal_2d</th>\n",
       "      <th>tmp_air_forecast</th>\n",
       "      <th>tmp_pt_rose_2d</th>\n",
       "    </tr>\n",
       "    <tr>\n",
       "      <th>Datetime</th>\n",
       "      <th></th>\n",
       "      <th></th>\n",
       "      <th></th>\n",
       "    </tr>\n",
       "  </thead>\n",
       "  <tbody>\n",
       "    <tr>\n",
       "      <th>2018-12-13 11:00:00</th>\n",
       "      <td>467.574358</td>\n",
       "      <td>20.553893</td>\n",
       "      <td>-0.281066</td>\n",
       "    </tr>\n",
       "    <tr>\n",
       "      <th>2018-12-13 12:00:00</th>\n",
       "      <td>351.609215</td>\n",
       "      <td>26.013111</td>\n",
       "      <td>-0.244630</td>\n",
       "    </tr>\n",
       "    <tr>\n",
       "      <th>2018-12-13 13:00:00</th>\n",
       "      <td>27.411160</td>\n",
       "      <td>32.581252</td>\n",
       "      <td>-0.721619</td>\n",
       "    </tr>\n",
       "    <tr>\n",
       "      <th>2018-12-13 14:00:00</th>\n",
       "      <td>-246.499246</td>\n",
       "      <td>39.798944</td>\n",
       "      <td>-0.125160</td>\n",
       "    </tr>\n",
       "  </tbody>\n",
       "</table>\n",
       "</div>"
      ],
      "text/plain": [
       "                     rad_gobal_2d  tmp_air_forecast  tmp_pt_rose_2d\n",
       "Datetime                                                           \n",
       "2018-12-13 11:00:00    467.574358         20.553893       -0.281066\n",
       "2018-12-13 12:00:00    351.609215         26.013111       -0.244630\n",
       "2018-12-13 13:00:00     27.411160         32.581252       -0.721619\n",
       "2018-12-13 14:00:00   -246.499246         39.798944       -0.125160"
      ]
     },
     "execution_count": 75,
     "metadata": {},
     "output_type": "execute_result"
    }
   ],
   "source": [
    "df_results = invert_transformation(df_train, df_forecast, second_diff=True)\n",
    "\n",
    "print(df_results)\n",
    "df_results.loc[:, ['rad_gobal_2d', 'tmp_air_forecast', 'tmp_pt_rose_2d']]"
   ]
  },
  {
   "cell_type": "code",
   "execution_count": 77,
   "id": "8f95bc8a",
   "metadata": {},
   "outputs": [
    {
     "data": {
      "text/plain": [
       "<bound method Series.unique of 0          GENERAL CARNEIRO\n",
       "1          GENERAL CARNEIRO\n",
       "2          GENERAL CARNEIRO\n",
       "3          GENERAL CARNEIRO\n",
       "4          GENERAL CARNEIRO\n",
       "                 ...       \n",
       "2435369           ARARANGUA\n",
       "2435370           ARARANGUA\n",
       "2435371           ARARANGUA\n",
       "2435372           ARARANGUA\n",
       "2435373           ARARANGUA\n",
       "Name: station, Length: 2435374, dtype: object>"
      ]
     },
     "execution_count": 77,
     "metadata": {},
     "output_type": "execute_result"
    }
   ],
   "source": [
    "df['station'].unique"
   ]
  }
 ],
 "metadata": {
  "kernelspec": {
   "display_name": "Python 3 (ipykernel)",
   "language": "python",
   "name": "python3"
  },
  "language_info": {
   "codemirror_mode": {
    "name": "ipython",
    "version": 3
   },
   "file_extension": ".py",
   "mimetype": "text/x-python",
   "name": "python",
   "nbconvert_exporter": "python",
   "pygments_lexer": "ipython3",
   "version": "3.9.12"
  }
 },
 "nbformat": 4,
 "nbformat_minor": 5
}
